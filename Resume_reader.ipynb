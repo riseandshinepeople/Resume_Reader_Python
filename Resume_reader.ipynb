{
 "cells": [
  {
   "cell_type": "code",
   "execution_count": 1,
   "id": "a47a6d85",
   "metadata": {},
   "outputs": [],
   "source": [
    "import docx2txt"
   ]
  },
  {
   "cell_type": "markdown",
   "id": "8ceed32c",
   "metadata": {},
   "source": [
    " # Data Analyst Job"
   ]
  },
  {
   "cell_type": "code",
   "execution_count": 2,
   "id": "3206f7cf",
   "metadata": {},
   "outputs": [],
   "source": [
    "job_description_DA=docx2txt.process('Data Analyst job description.docx')"
   ]
  },
  {
   "cell_type": "code",
   "execution_count": 3,
   "id": "658b0c3f",
   "metadata": {
    "scrolled": true
   },
   "outputs": [
    {
     "name": "stdout",
     "output_type": "stream",
     "text": [
      "Data Analyst job description\n",
      "\n",
      "\n",
      "\n",
      "\n",
      "\n",
      "\n",
      "\n",
      "\n",
      "\n",
      "Data Analyst responsibilities include:\n",
      "\n",
      "\t\tInterpreting data, analyzing results using statistical techniques\n",
      "\n",
      "\t\tDeveloping and implementing data analyses, data collection systems and other strategies that optimize statistical efficiency and quality\n",
      "\n",
      "\t\tAcquiring data from primary or secondary data sources and maintaining databases\n",
      "\n",
      "Job brief\n",
      "\n",
      "We are looking for a passionate certified Data Analyst. The successful candidate will turn data into information, information into insight and insight into business decisions.\n",
      "\n",
      "\n",
      "\n",
      "Data Analyst Job Duties\n",
      "\n",
      "Data analyst responsibilities include conducting full lifecycle analysis to include requirements, activities and design. Data analysts will develop analysis and reporting capabilities. They will also monitor performance and quality control plans to identify improvements.\n",
      "\n",
      "\n",
      "\n",
      "Responsibilities\n",
      "\n",
      "\t\tInterpret data, analyze results using statistical techniques and provide ongoing reports\n",
      "\n",
      "\t\tDevelop and implement databases, data collection systems, data analytics and other strategies that optimize statistical efficiency and quality\n",
      "\n",
      "\t\tAcquire data from primary or secondary data sources and maintain databases/data systems\n",
      "\n",
      "\t\tIdentify, analyze, and interpret trends or patterns in complex data sets\n",
      "\n",
      "\t\tFilter and “clean” data by reviewing computer reports, printouts, and performance indicators to locate and correct code problems\n",
      "\n",
      "\t\tWork with management to prioritize business and information needs\n",
      "\n",
      "\n",
      "\n",
      "\t\tLocate and define new process improvement opportunities\n",
      "\n",
      "\n",
      "\n",
      "\n",
      "\n",
      "\n",
      "\n",
      "\n",
      "\n",
      "Requirements and skills\n",
      "\n",
      "\t\tProven working experience as a Data Analyst or Business Data Analyst\n",
      "\n",
      "\t\tTechnical expertise regarding data models, database design development, data mining and segmentation techniques\n",
      "\n",
      "\t\tStrong knowledge of and experience with reporting packages (Business Objects etc), databases (SQL etc), programming (Python, or ETL frameworks)\n",
      "\n",
      "\t\tKnowledge of statistics and experience using statistical packages for analyzing datasets (Excel, SPSS, SAS etc)\n",
      "\n",
      "\t\tStrong analytical skills with the ability to collect, organize, analyze, and disseminate significant amounts of information with attention to detail and accuracy\n",
      "\n",
      "\t\tAdept at queries, report writing and presenting findings\n",
      "\n",
      "\t\tBS in Mathematics, Economics, Computer Science, Information Management or Statistics\n",
      "\n",
      "Frequently asked questions\n",
      "\n",
      "What does a Data Analyst do?\n",
      "\n",
      "A Data Analyst's role depends on the industry, such as social media, digital marketing, finance, business intelligence, and more. In general, they retrieve, process, and analyze large amounts of data. They also design systems and databases to help them perform these actions.\n",
      "\n",
      "\n",
      "\n",
      "What are the duties and responsibilities of a Data Analyst?\n",
      "\n",
      "A Data Analyst’s responsibilities include the deep analysis of data and then determining the best way to represent it visually to managers and stakeholders. They also ensure quality assurance and process documentation and define Key Performance Indicators (KPIs).\n",
      "\n",
      "Another important duty of a data analyst is to assess and determine the success of specific initiatives.\n"
     ]
    }
   ],
   "source": [
    "print (job_description_DA)"
   ]
  },
  {
   "cell_type": "markdown",
   "id": "668a7f69",
   "metadata": {},
   "source": [
    "# Data Scientist Job"
   ]
  },
  {
   "cell_type": "code",
   "execution_count": 4,
   "id": "48c4d876",
   "metadata": {},
   "outputs": [],
   "source": [
    "job_description_DS=docx2txt.process('DATA SCIENTISTS JOB DESCRIPTION.docx')"
   ]
  },
  {
   "cell_type": "code",
   "execution_count": 5,
   "id": "3c119e0c",
   "metadata": {},
   "outputs": [
    {
     "name": "stdout",
     "output_type": "stream",
     "text": [
      "DATA SCIENTISTS JOB DESCRIPTION\n",
      "\n",
      "Data Scientist Roles and Responsibilities:\n",
      "\n",
      "Data scientist roles and responsibilities include:\n",
      "\n",
      "Data mining or extracting usable data from valuable data sources\n",
      "\n",
      "Using machine learning tools to select features, create and optimize classifiers\n",
      "\n",
      "Carrying out preprocessing of structured and unstructured data\n",
      "\n",
      "Enhancing data collection procedures to include all relevant information for developing analytic systems\n",
      "\n",
      "Processing, cleansing, and validating the integrity of data to be used for analysis\n",
      "\n",
      "Analyzing large amounts of information to find patterns and solutions\n",
      "\n",
      "Developing prediction systems and machine learning algorithms\n",
      "\n",
      "Presenting results in a clear manner\n",
      "\n",
      "Propose solutions and strategies to tackle business challenges\n",
      "\n",
      "Collaborate with Business and IT teams\n",
      "\n",
      "Data Scientist Skills\n",
      "\n",
      "You need to master the skills required for data scientist jobs in various industries and organizations if you want to pursue a data scientist career. Let’s look at the must-have data scientist qualifications. Key skills needed to become a data scientist:\n",
      "\n",
      "Programming Skills – knowledge of statistical programming languages like R, Python, and database query languages like SQL, Hive, Pig is desirable. Familiarity with Scala, Java, or C++ is an added advantage.\n",
      "\n",
      "Statistics – Good applied statistical skills, including knowledge of statistical tests, distributions, regression, maximum likelihood estimators, etc. Proficiency in statistics is essential for data-driven companies. \n",
      "\n",
      "Machine Learning – good knowledge of machine learning methods like k-Nearest Neighbors, Naive Bayes, SVM, Decision Forests. \n",
      "\n",
      "Strong Math Skills (Multivariable Calculus and Linear Algebra) - understanding the fundamentals of Multivariable Calculus and Linear Algebra is important as they form the basis of a lot of predictive performance or algorithm optimization techniques. \n",
      "\n",
      "Data Wrangling – proficiency in handling imperfections in data is an important aspect of a data scientist job description. \n",
      "\n",
      "Experience with Data Visualization Tools like matplotlib, ggplot, d3.js., Tableau that help to visually encode data\n",
      "\n",
      "Excellent Communication Skills – it is incredibly important to describe findings to a technical and non-technical audience.\n",
      "\n",
      "Strong Software Engineering Background\n",
      "\n",
      "Hands-on experience with data science tools\n",
      "\n",
      "Problem-solving aptitude\n",
      "\n",
      "Analytical mind and great business sense\n",
      "\n",
      "Degree in Computer Science, Engineering or relevant field is preferred\n",
      "\n",
      "Proven Experience as Data Analyst or Data Scientist\n"
     ]
    }
   ],
   "source": [
    "print (job_description_DS)"
   ]
  },
  {
   "cell_type": "markdown",
   "id": "5a41714b",
   "metadata": {},
   "source": [
    "# Data Engineer Job"
   ]
  },
  {
   "cell_type": "code",
   "execution_count": 6,
   "id": "269af99e",
   "metadata": {},
   "outputs": [],
   "source": [
    "job_description_DE=docx2txt.process('JOB DESCRIPTION FOR DATA ENGINEER.docx')"
   ]
  },
  {
   "cell_type": "code",
   "execution_count": 7,
   "id": "de57e09f",
   "metadata": {},
   "outputs": [
    {
     "name": "stdout",
     "output_type": "stream",
     "text": [
      "JOB DESCRIPTION FOR DATA ENGINEER\n",
      "\n",
      "\n",
      "\n",
      "\n",
      "\n",
      "\n",
      "\n",
      "Job brief\n",
      "\n",
      "We are looking for an experienced data engineer to join our team. You will use various methods to transform raw data into useful data systems. For example, you’ll create algorithms and conduct statistical analysis. Overall, you’ll strive for efficiency by aligning data systems with business goals. \n",
      "\n",
      "To succeed in this data engineering position, you should have strong analytical skills and the ability to combine data from different sources. Data engineer skills also include familiarity with several programming languages and knowledge of learning machine methods.\n",
      "\n",
      "If you are detail-oriented, with excellent organizational skills and experience in this field, we’d like to hear from you. \n",
      "\n",
      "Responsibilities\n",
      "\n",
      "Analyze and organize raw data \n",
      "\n",
      "Build data systems and pipelines\n",
      "\n",
      "Evaluate business needs and objectives\n",
      "\n",
      "Interpret trends and patterns\n",
      "\n",
      "Conduct complex data analysis and report on results \n",
      "\n",
      "Prepare data for prescriptive and predictive modeling\n",
      "\n",
      "Build algorithms and prototypes\n",
      "\n",
      "Combine raw information from different sources\n",
      "\n",
      "Explore ways to enhance data quality and reliability\n",
      "\n",
      "Identify opportunities for data acquisition\n",
      "\n",
      "Develop analytical tools and programs\n",
      "\n",
      "Collaborate with data scientists and architects on several projects\n",
      "\n",
      "Requirements and skills\n",
      "\n",
      "Previous experience as a data engineer or in a similar role\n",
      "\n",
      "Technical expertise with data models, data mining, and segmentation techniques\n",
      "\n",
      "Knowledge of programming languages  (e.g. Java and Python)\n",
      "\n",
      "Hands-on experience with SQL database design\n",
      "\n",
      "Great numerical and analytical skills\n",
      "\n",
      "Degree in Computer Science, IT, or similar field; a Master’s is a plus\n",
      "\n",
      "Data engineering certification (e.g IBM Certified Data Engineer) is a plus\n"
     ]
    }
   ],
   "source": [
    "print(job_description_DE)"
   ]
  },
  {
   "cell_type": "markdown",
   "id": "cf971362",
   "metadata": {},
   "source": [
    "# Input ur resume"
   ]
  },
  {
   "cell_type": "code",
   "execution_count": 9,
   "id": "5345384a",
   "metadata": {},
   "outputs": [
    {
     "name": "stdout",
     "output_type": "stream",
     "text": [
      "data-analyst resume 1.docx\n"
     ]
    }
   ],
   "source": [
    "Resume1=docx2txt.process(input())"
   ]
  },
  {
   "cell_type": "code",
   "execution_count": 10,
   "id": "a34b3cd8",
   "metadata": {},
   "outputs": [
    {
     "name": "stdout",
     "output_type": "stream",
     "text": [
      "[[1.         0.65982032]\n",
      " [0.65982032 1.        ]]\n"
     ]
    }
   ],
   "source": [
    "content = [job_description_DA, Resume1]\n",
    "     \n",
    "\n",
    "from sklearn.feature_extraction.text import CountVectorizer\n",
    "cv = CountVectorizer()\n",
    "count_matrix = cv.fit_transform(content)\n",
    "     \n",
    "\n",
    "from sklearn.metrics.pairwise import cosine_similarity\n",
    "mat = cosine_similarity(count_matrix)\n",
    "print(mat)"
   ]
  },
  {
   "cell_type": "code",
   "execution_count": 11,
   "id": "2330b49a",
   "metadata": {},
   "outputs": [
    {
     "name": "stdout",
     "output_type": "stream",
     "text": [
      "Resume Matches by 65.98203223065642% for data analyst position:\n"
     ]
    }
   ],
   "source": [
    "print('Resume Matches by '+  str(mat[1][0]*100) + '%' + ' for data analyst position:')"
   ]
  },
  {
   "cell_type": "code",
   "execution_count": 12,
   "id": "b58c3f8f",
   "metadata": {},
   "outputs": [
    {
     "name": "stdout",
     "output_type": "stream",
     "text": [
      "[[1.         0.63170411]\n",
      " [0.63170411 1.        ]]\n"
     ]
    }
   ],
   "source": [
    "content = [job_description_DS, Resume1]\n",
    "     \n",
    "\n",
    "from sklearn.feature_extraction.text import CountVectorizer\n",
    "cv = CountVectorizer()\n",
    "count_matrix = cv.fit_transform(content)\n",
    "     \n",
    "\n",
    "from sklearn.metrics.pairwise import cosine_similarity\n",
    "mat = cosine_similarity(count_matrix)\n",
    "print(mat)"
   ]
  },
  {
   "cell_type": "code",
   "execution_count": 13,
   "id": "b96e98fe",
   "metadata": {},
   "outputs": [
    {
     "name": "stdout",
     "output_type": "stream",
     "text": [
      "Resume Matches by 63.17041106461077% for data science position:\n"
     ]
    }
   ],
   "source": [
    "print('Resume Matches by '+  str(mat[1][0]*100) + '%' + ' for data science position:')"
   ]
  },
  {
   "cell_type": "code",
   "execution_count": 14,
   "id": "2f8f44f5",
   "metadata": {},
   "outputs": [
    {
     "name": "stdout",
     "output_type": "stream",
     "text": [
      "[[1.         0.64566453]\n",
      " [0.64566453 1.        ]]\n"
     ]
    }
   ],
   "source": [
    "content = [job_description_DE, Resume1]\n",
    "     \n",
    "\n",
    "from sklearn.feature_extraction.text import CountVectorizer\n",
    "cv = CountVectorizer()\n",
    "count_matrix = cv.fit_transform(content)\n",
    "     \n",
    "\n",
    "from sklearn.metrics.pairwise import cosine_similarity\n",
    "mat = cosine_similarity(count_matrix)\n",
    "print(mat)"
   ]
  },
  {
   "cell_type": "code",
   "execution_count": 15,
   "id": "7b0f0ddd",
   "metadata": {},
   "outputs": [
    {
     "name": "stdout",
     "output_type": "stream",
     "text": [
      "Resume Matches by 64.56645299824838% for data engineer position:\n"
     ]
    }
   ],
   "source": [
    "print('Resume Matches by '+  str(mat[1][0]*100)  + '%' + ' for data engineer position:')"
   ]
  },
  {
   "cell_type": "markdown",
   "id": "ed4a9361",
   "metadata": {},
   "source": [
    "# THANK YOU"
   ]
  },
  {
   "cell_type": "code",
   "execution_count": null,
   "id": "ab4314b7",
   "metadata": {},
   "outputs": [],
   "source": []
  }
 ],
 "metadata": {
  "kernelspec": {
   "display_name": "Python 3 (ipykernel)",
   "language": "python",
   "name": "python3"
  },
  "language_info": {
   "codemirror_mode": {
    "name": "ipython",
    "version": 3
   },
   "file_extension": ".py",
   "mimetype": "text/x-python",
   "name": "python",
   "nbconvert_exporter": "python",
   "pygments_lexer": "ipython3",
   "version": "3.9.12"
  }
 },
 "nbformat": 4,
 "nbformat_minor": 5
}
